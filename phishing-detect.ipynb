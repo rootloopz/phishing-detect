{
 "cells": [
  {
   "cell_type": "code",
   "execution_count": 8,
   "metadata": {},
   "outputs": [],
   "source": [
    "# import resources\n",
    "%matplotlib inline\n",
    "# note sure if we need these all:\n",
    "#from PIL import Image\n",
    "#from io import BytesIO\n",
    "#import matplotlib.pyplot as plt\n",
    "\n",
    "#import torch\n",
    "#import torch.optim as optim\n",
    "#import requests\n",
    "#from torchvision import transforms, models\n",
    "import numpy as np\n",
    "import re\n",
    "import pandas as pd\n",
    "\n",
    "\n",
    "from tensorflow.keras.preprocessing.text import Tokenizer\n",
    "from tensorflow.keras.preprocessing.sequence import pad_sequences\n",
    "from sklearn.model_selection import train_test_split\n"
   ]
  },
  {
   "cell_type": "code",
   "execution_count": 2,
   "metadata": {},
   "outputs": [
    {
     "name": "stdout",
     "output_type": "stream",
     "text": [
      "Subject:\n",
      " d - link dwl - g 510 802 . 11 g wireless pci lan adapter @ $ 39 . 85\n",
      "\n",
      "Body:\n",
      " $ 39 . 85 dwl - g 510\n",
      "high speed\n",
      "2 . 4\n",
      "ghz ( 802 . 11 g ) wireless pci lan\n",
      "adapter\n",
      "ieee 802 . 11 g standardupto\n",
      "54 mbpsoperating frequency range - 2 . 4\n",
      "ghz \" is an ideal solution enabling wireless networking\n",
      "capabilities on desktops pcs for the home or\n",
      "office . \"\n",
      "dwl - g 510\n",
      "visit : http : / / www . computron - me . com for deals !\n",
      "d - link dwl - g 510\n",
      "802 . 11 g wireless pci lan adapter\n",
      "the d - link g 510 is a wireless pci\n",
      "adapter featuring the latest ieee 802 . 11 g wireless\n",
      "technology to deliverincredibly fast data transfer\n",
      "in the 2 . 4 ghz frequency . the g 510 features the 802 . 11 g\n",
      "standard and is backwards compatible with all the\n",
      "existing 802 . 11 / 11 b products already out there . it also\n",
      "offers a 64 / 128 - bit wep encryption and includes a\n",
      "removable antenna and driver cd . get your d - link g 510\n",
      "wireless pci lan adapter today !\n",
      "general features :\n",
      "- pci interface -\n",
      "removable antenna - 64 / 128 - bit wep encryption -\n",
      "link / act led - plug and\n",
      "play\n",
      "your one stop\n",
      "distributorjebel ali duty free zonedubai , uae . www . computron - me . com\n",
      "for latest clearance sale listing contact our\n",
      "sales department .\n",
      "only limited quantities available on selected\n",
      "specials ! ! ! !\n",
      "for further details please send\n",
      "your enquiries to : dealers @ emirates . net . aeor contact via www . computron - me . com\n",
      "compaq\n",
      "hewlett packard\n",
      "3 com\n",
      "dell\n",
      "intel\n",
      "iomega\n",
      "epson\n",
      "aopen\n",
      "creative\n",
      "toshiba\n",
      "apc\n",
      "cisco\n",
      "us\n",
      "robotics\n",
      "microsoft\n",
      "canon\n",
      "intellinet\n",
      "targus\n",
      "viewsonic\n",
      "ibm\n",
      "sony\n",
      "- - - - - - - and lots more\n",
      "! ! !\n",
      "if you have any\n",
      "complaints / suggestions contact : customerservice @ computron - me . com\n",
      "tel + 971 4\n",
      "8834464\n",
      "all prices in u . s . dollars , ex - works ,\n",
      "fax + 971 4\n",
      "8834454\n",
      "jebel ali duty free zone\n",
      "www . computron - me . com\n",
      "prices and availability subject to change\n",
      "usa -\n",
      "canada u . a . e .\n",
      "without\n",
      "notice .\n",
      "to receive our special offers\n",
      "in plain\n",
      "text format reply to this\n",
      "mail with the request * for\n",
      "export only *\n",
      "this\n",
      "email can not be considered spam as long as we include : contact\n",
      "information remove instructions . this message is intended for dealer\n",
      "and resellers only . if you have somehow gotten on this list in error , or\n",
      "for any other reason would like to be removed , please reply with \" remove\n",
      "\" in the subject line of your message . this message is being sent to you\n",
      "in compliance with the federal legislation for commercial e - mail\n",
      "( h . r . 4176 - section 101 paragraph ( e ) ( 1 ) ( a ) and bill s . 1618 title iii\n",
      "passed by the 105 th u . s . congress .\n",
      "all logos and\n",
      "trademarks are the property of their respective\n",
      "owners\n",
      "products may not be exactly as shown\n",
      "above\n",
      "- -\n",
      "to unsubscribe from : computron 6 , just follow this link :\n",
      "click the link , or copy and paste the address into your browser .\n",
      "\n",
      "Label: 1\n"
     ]
    }
   ],
   "source": [
    "\n",
    "# load the dataset and check it\n",
    "df = pd.read_csv('data/Enron.csv')\n",
    "df.head()\n",
    "# 1 means marked as spam/malicious\n",
    "row = df[df['label'] == 1].iloc[0]\n",
    "\n",
    "print(\"Subject:\\n\", row['subject'])\n",
    "print(\"\\nBody:\\n\", row['body'])\n",
    "print(\"\\nLabel:\", row['label'])\n"
   ]
  },
  {
   "cell_type": "code",
   "execution_count": 3,
   "metadata": {},
   "outputs": [],
   "source": [
    "\n",
    "# get rid of puncation and other things\n",
    "def clean_text(text):\n",
    "    text = text.lower()\n",
    "    text = re.sub(r'[^a-z0-9\\s]', '', text)\n",
    "    return text"
   ]
  },
  {
   "cell_type": "code",
   "execution_count": 4,
   "metadata": {},
   "outputs": [],
   "source": [
    "# combine the subject and mode / prep for tokens -> CNN\n",
    "\n",
    "df['text'] = df['subject'].fillna('') + ' ' + df['body'].fillna('')\n",
    "df['text'] = df['text'].apply(clean_text)"
   ]
  },
  {
   "cell_type": "code",
   "execution_count": 5,
   "metadata": {},
   "outputs": [
    {
     "name": "stderr",
     "output_type": "stream",
     "text": [
      "2025-07-10 20:12:08.779861: E external/local_xla/xla/stream_executor/cuda/cuda_fft.cc:467] Unable to register cuFFT factory: Attempting to register factory for plugin cuFFT when one has already been registered\n",
      "WARNING: All log messages before absl::InitializeLog() is called are written to STDERR\n",
      "E0000 00:00:1752203528.815486  141302 cuda_dnn.cc:8579] Unable to register cuDNN factory: Attempting to register factory for plugin cuDNN when one has already been registered\n",
      "E0000 00:00:1752203528.825789  141302 cuda_blas.cc:1407] Unable to register cuBLAS factory: Attempting to register factory for plugin cuBLAS when one has already been registered\n",
      "W0000 00:00:1752203528.853071  141302 computation_placer.cc:177] computation placer already registered. Please check linkage and avoid linking the same target more than once.\n",
      "W0000 00:00:1752203528.853100  141302 computation_placer.cc:177] computation placer already registered. Please check linkage and avoid linking the same target more than once.\n",
      "W0000 00:00:1752203528.853104  141302 computation_placer.cc:177] computation placer already registered. Please check linkage and avoid linking the same target more than once.\n",
      "W0000 00:00:1752203528.853107  141302 computation_placer.cc:177] computation placer already registered. Please check linkage and avoid linking the same target more than once.\n",
      "2025-07-10 20:12:08.861229: I tensorflow/core/platform/cpu_feature_guard.cc:210] This TensorFlow binary is optimized to use available CPU instructions in performance-critical operations.\n",
      "To enable the following instructions: AVX2 FMA, in other operations, rebuild TensorFlow with the appropriate compiler flags.\n"
     ]
    },
    {
     "name": "stdout",
     "output_type": "stream",
     "text": [
      "Original text:\n",
      " hpl nom for may 25  2001  see attached file  hplno 525  xls \n",
      " hplno 525  xls\n",
      "\n",
      "Tokenized sequence:\n",
      " [360, 1156, 9, 61, 237, 55, 151, 207, 319, 3906, 1, 969, 2, 3906, 1, 969]\n",
      "\n",
      "Padded sequence:\n",
      " [ 360 1156    9   61  237   55  151  207  319 3906    1  969    2 3906\n",
      "    1  969    0    0    0    0    0    0    0    0    0    0    0    0\n",
      "    0    0    0    0    0    0    0    0    0    0    0    0    0    0\n",
      "    0    0    0    0    0    0    0    0    0    0    0    0    0    0\n",
      "    0    0    0    0    0    0    0    0    0    0    0    0    0    0\n",
      "    0    0    0    0    0    0    0    0    0    0    0    0    0    0\n",
      "    0    0    0    0    0    0    0    0    0    0    0    0    0    0\n",
      "    0    0]\n"
     ]
    }
   ],
   "source": [
    "# tokenization for CNN\n",
    "\n",
    "vocab_size = 10000\n",
    "max_length = 100\n",
    "oov_token = \"<OOV>\"\n",
    "\n",
    "tokenizer = Tokenizer(num_words=vocab_size, oov_token=oov_token)\n",
    "tokenizer.fit_on_texts(df['text'])\n",
    "\n",
    "sequences = tokenizer.texts_to_sequences(df['text'])\n",
    "padded_sequences = pad_sequences(sequences, maxlen=max_length, padding='post', truncating='post')\n",
    "\n",
    "labels = df['label'].values \n",
    "# check if tokenization worked?\n",
    "i = 0 \n",
    "print(\"triginal text:\\n\", df['text'].iloc[i])\n",
    "print(\"\\ntokenized sequence:\\n\", sequences[i])\n",
    "print(\"\\npadded sequence:\\n\", padded_sequences[i])\n"
   ]
  },
  {
   "cell_type": "code",
   "execution_count": 7,
   "metadata": {},
   "outputs": [
    {
     "name": "stdout",
     "output_type": "stream",
     "text": [
      "Total samples: 29767\n",
      "Training samples: 23813\n",
      "Validation samples: 5954\n",
      "Training labels distribution:\n",
      "  Spam (1): 11207, Not spam (0): 12606\n",
      "Validation labels distribution:\n",
      "  Spam (1): 2769, Not spam (0): 3185\n"
     ]
    }
   ],
   "source": [
    "# split the data for training\n",
    "\n",
    "# test_size = 0.2 means set aside 20% of the data for validation\n",
    "X_train, X_val, y_train, y_val = train_test_split(\n",
    "    padded_sequences, labels, test_size=0.2, random_state=42\n",
    ")\n",
    "\n",
    "print(\"total samples:\", len(padded_sequences))\n",
    "print(\"training samples:\", len(X_train))\n",
    "print(\"validation samples:\", len(X_val))\n"
   ]
  },
  {
   "cell_type": "code",
   "execution_count": null,
   "metadata": {},
   "outputs": [],
   "source": []
  }
 ],
 "metadata": {
  "kernelspec": {
   "display_name": "Python 3 (ipykernel)",
   "language": "python",
   "name": "python3"
  },
  "language_info": {
   "codemirror_mode": {
    "name": "ipython",
    "version": 3
   },
   "file_extension": ".py",
   "mimetype": "text/x-python",
   "name": "python",
   "nbconvert_exporter": "python",
   "pygments_lexer": "ipython3",
   "version": "3.12.3"
  }
 },
 "nbformat": 4,
 "nbformat_minor": 4
}
